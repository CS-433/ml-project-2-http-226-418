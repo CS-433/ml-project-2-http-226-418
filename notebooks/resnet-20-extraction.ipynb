{
 "cells": [
  {
   "cell_type": "code",
   "execution_count": null,
   "id": "dd41f734-0d56-460a-8103-23d799676ab7",
   "metadata": {},
   "outputs": [],
   "source": [
    "import torch\n",
    "import numpy as np\n",
    "import os\n",
    "import glob\n",
    "from brainscore_vision import load_model"
   ]
  },
  {
   "cell_type": "code",
   "execution_count": null,
   "id": "698c73a0",
   "metadata": {},
   "outputs": [],
   "source": [
    "model = load_model('resnet50_tutorial')\n",
    "act_model = model.activations_model"
   ]
  },
  {
   "cell_type": "code",
   "execution_count": 4,
   "id": "1e7105d2-3ec5-4332-a60f-757f305d8d77",
   "metadata": {},
   "outputs": [],
   "source": [
    "layers = ['layer2', 'layer2', 'layer2', 'layer3']"
   ]
  },
  {
   "cell_type": "code",
   "execution_count": null,
   "id": "45464eee",
   "metadata": {},
   "outputs": [],
   "source": [
    "imagenet = f'{ os.getcwd() }/data/imagenet/val'"
   ]
  },
  {
   "cell_type": "code",
   "execution_count": 5,
   "id": "9f83440d-6a45-4c65-a6a4-c92edce47dc7",
   "metadata": {},
   "outputs": [],
   "source": [
    "stimuli = glob.glob(os.path.join(imagenet, '**'), recursive=True)\n",
    "stimuli = [ stimulus for stimulus in stimuli if os.path.isfile(stimulus) ]"
   ]
  },
  {
   "cell_type": "code",
   "execution_count": null,
   "id": "7e88399b",
   "metadata": {},
   "outputs": [],
   "source": [
    "output = f'{ os.getcwd() }/data/output/resnet-20'"
   ]
  },
  {
   "cell_type": "code",
   "execution_count": null,
   "id": "f10279a0",
   "metadata": {},
   "outputs": [],
   "source": [
    "# Set batch size for processing\n",
    "batch_size = 1000\n",
    "\n",
    "# Initialize counter for file naming\n",
    "counter = 1\n",
    "\n",
    "# Loop through the stimuli in batches\n",
    "for batch_start in range(0, len(stimuli), batch_size):\n",
    "  batch = stimuli[batch_start:batch_start + batch_size]\n",
    "  model_extraction = act_model(batch, layers)\n",
    "  layers = model_extraction['layer'].values\n",
    "  features_by_layer = {\n",
    "    layer: model_extraction.sel(neuroid=model_extraction['layer'] == layer).data\n",
    "    for layer in layers\n",
    "  }\n",
    "  npz_data = {\n",
    "    layer_name: features \n",
    "    for layer_name, features in features_by_layer.items()\n",
    "  }\n",
    "  np.savez(os.path.join(output, '{}-{}.npz'.format(model.identifier, counter)), **npz_data)\n",
    "  counter += 1"
   ]
  }
 ],
 "metadata": {
  "kernelspec": {
   "display_name": "CS-433",
   "language": "python",
   "name": "python3"
  },
  "language_info": {
   "codemirror_mode": {
    "name": "ipython",
    "version": 3
   },
   "file_extension": ".py",
   "mimetype": "text/x-python",
   "name": "python",
   "nbconvert_exporter": "python",
   "pygments_lexer": "ipython3",
   "version": "3.11.11"
  }
 },
 "nbformat": 4,
 "nbformat_minor": 5
}
