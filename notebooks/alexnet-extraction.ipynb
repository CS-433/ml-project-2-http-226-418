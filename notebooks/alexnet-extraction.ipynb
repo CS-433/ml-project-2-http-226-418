{
 "cells": [
  {
   "cell_type": "markdown",
   "metadata": {},
   "source": [
    "# TODO"
   ]
  },
  {
   "cell_type": "code",
   "execution_count": null,
   "metadata": {},
   "outputs": [],
   "source": [
    "import os\n",
    "import glob\n",
    "import torch\n",
    "import numpy as np\n",
    "from brainscore_vision import load_model"
   ]
  },
  {
   "cell_type": "code",
   "execution_count": null,
   "metadata": {},
   "outputs": [],
   "source": [
    "print(f'cwd: {os.getcwd()}')"
   ]
  },
  {
   "cell_type": "code",
   "execution_count": null,
   "metadata": {},
   "outputs": [],
   "source": [
    "model = load_model('alexnet')"
   ]
  },
  {
   "cell_type": "code",
   "execution_count": null,
   "metadata": {},
   "outputs": [],
   "source": [
    "act_model = model.activations_model"
   ]
  },
  {
   "cell_type": "code",
   "execution_count": null,
   "metadata": {},
   "outputs": [],
   "source": [
    "layers = [ f'features.{i}' for i in range(0, 13) ]"
   ]
  },
  {
   "cell_type": "code",
   "execution_count": null,
   "metadata": {},
   "outputs": [],
   "source": [
    "imagenet = f'{ os.getcwd() }/data/imagenet/val'"
   ]
  },
  {
   "cell_type": "code",
   "execution_count": null,
   "metadata": {},
   "outputs": [],
   "source": [
    "stimuli = glob.glob(os.path.join(imagenet, '**'), recursive=True)\n",
    "stimuli = [ stimulus for stimulus in stimuli if os.path.isfile(stimulus) ]"
   ]
  },
  {
   "cell_type": "code",
   "execution_count": null,
   "metadata": {},
   "outputs": [],
   "source": [
    "output = f'{ os.getcwd() }/data/output/alexnet'"
   ]
  },
  {
   "cell_type": "code",
   "execution_count": null,
   "metadata": {},
   "outputs": [],
   "source": [
    "batch_size = 1\n",
    "counter = 1\n",
    "\n",
    "for batch_start in range(0, len(stimuli), batch_size):\n",
    "  batch = stimuli[batch_start : batch_start + batch_size]\n",
    "  print(f'processing batch of size {len(batch)}')\n",
    "  model_extraction = act_model(batch, ['features.0'])\n",
    "  print(\"model was executed...\")\n",
    "  layers = model_extraction['layer'].values\n",
    "  features_by_layer = {\n",
    "    layer: model_extraction.sel(neuroid=model_extraction['layer'] == layer).data\n",
    "    for layer in layers\n",
    "    }\n",
    "  npz_data = {\n",
    "    layer_name: features \n",
    "    for layer_name, features in features_by_layer.items()\n",
    "    }\n",
    "  # Save the data for the current batch\n",
    "  print('saving to file ...')\n",
    "  np.savez(os.path.join(output, '{}-{}.npz'.format(model.identifier, counter)), **npz_data)\n",
    "  counter += 1"
   ]
  }
 ],
 "metadata": {
  "kernelspec": {
   "display_name": "CS-433",
   "language": "python",
   "name": "python3"
  },
  "language_info": {
   "name": "python",
   "version": "3.11.11"
  }
 },
 "nbformat": 4,
 "nbformat_minor": 2
}
