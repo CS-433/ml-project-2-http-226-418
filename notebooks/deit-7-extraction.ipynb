{
 "cells": [
  {
   "cell_type": "code",
   "execution_count": 1,
   "id": "dd41f734-0d56-460a-8103-23d799676ab7",
   "metadata": {},
   "outputs": [
    {
     "name": "stderr",
     "output_type": "stream",
     "text": [
      "/home/seo/miniconda3/envs/myvenv/lib/python3.11/site-packages/brainscore_core/metrics/__init__.py:16: FutureWarning: xarray subclass Score should explicitly define __slots__\n",
      "  class Score(DataAssembly):\n"
     ]
    },
    {
     "name": "stdout",
     "output_type": "stream",
     "text": [
      "Requirement already satisfied: torch in /home/seo/miniconda3/envs/myvenv/lib/python3.11/site-packages (from -r /home/seo/miniconda3/envs/myvenv/lib/python3.11/site-packages/brainscore_vision/models/scaling_models/requirements.txt (line 1)) (2.5.1)\n",
      "Collecting torchvision (from -r /home/seo/miniconda3/envs/myvenv/lib/python3.11/site-packages/brainscore_vision/models/scaling_models/requirements.txt (line 2))\n",
      "  Using cached torchvision-0.20.1-cp311-cp311-manylinux1_x86_64.whl.metadata (6.1 kB)\n",
      "Collecting albumentations (from -r /home/seo/miniconda3/envs/myvenv/lib/python3.11/site-packages/brainscore_vision/models/scaling_models/requirements.txt (line 3))\n",
      "  Using cached albumentations-1.4.22-py3-none-any.whl.metadata (33 kB)\n",
      "Collecting timm (from -r /home/seo/miniconda3/envs/myvenv/lib/python3.11/site-packages/brainscore_vision/models/scaling_models/requirements.txt (line 4))\n",
      "  Using cached timm-1.0.12-py3-none-any.whl.metadata (51 kB)\n",
      "Requirement already satisfied: filelock in /home/seo/miniconda3/envs/myvenv/lib/python3.11/site-packages (from torch->-r /home/seo/miniconda3/envs/myvenv/lib/python3.11/site-packages/brainscore_vision/models/scaling_models/requirements.txt (line 1)) (3.16.1)\n",
      "Requirement already satisfied: typing-extensions>=4.8.0 in /home/seo/miniconda3/envs/myvenv/lib/python3.11/site-packages (from torch->-r /home/seo/miniconda3/envs/myvenv/lib/python3.11/site-packages/brainscore_vision/models/scaling_models/requirements.txt (line 1)) (4.12.2)\n",
      "Requirement already satisfied: networkx in /home/seo/miniconda3/envs/myvenv/lib/python3.11/site-packages (from torch->-r /home/seo/miniconda3/envs/myvenv/lib/python3.11/site-packages/brainscore_vision/models/scaling_models/requirements.txt (line 1)) (3.4.2)\n",
      "Requirement already satisfied: jinja2 in /home/seo/miniconda3/envs/myvenv/lib/python3.11/site-packages (from torch->-r /home/seo/miniconda3/envs/myvenv/lib/python3.11/site-packages/brainscore_vision/models/scaling_models/requirements.txt (line 1)) (3.1.4)\n",
      "Requirement already satisfied: fsspec in /home/seo/miniconda3/envs/myvenv/lib/python3.11/site-packages (from torch->-r /home/seo/miniconda3/envs/myvenv/lib/python3.11/site-packages/brainscore_vision/models/scaling_models/requirements.txt (line 1)) (2024.10.0)\n",
      "Requirement already satisfied: nvidia-cuda-nvrtc-cu12==12.4.127 in /home/seo/miniconda3/envs/myvenv/lib/python3.11/site-packages (from torch->-r /home/seo/miniconda3/envs/myvenv/lib/python3.11/site-packages/brainscore_vision/models/scaling_models/requirements.txt (line 1)) (12.4.127)\n",
      "Requirement already satisfied: nvidia-cuda-runtime-cu12==12.4.127 in /home/seo/miniconda3/envs/myvenv/lib/python3.11/site-packages (from torch->-r /home/seo/miniconda3/envs/myvenv/lib/python3.11/site-packages/brainscore_vision/models/scaling_models/requirements.txt (line 1)) (12.4.127)\n",
      "Requirement already satisfied: nvidia-cuda-cupti-cu12==12.4.127 in /home/seo/miniconda3/envs/myvenv/lib/python3.11/site-packages (from torch->-r /home/seo/miniconda3/envs/myvenv/lib/python3.11/site-packages/brainscore_vision/models/scaling_models/requirements.txt (line 1)) (12.4.127)\n",
      "Requirement already satisfied: nvidia-cudnn-cu12==9.1.0.70 in /home/seo/miniconda3/envs/myvenv/lib/python3.11/site-packages (from torch->-r /home/seo/miniconda3/envs/myvenv/lib/python3.11/site-packages/brainscore_vision/models/scaling_models/requirements.txt (line 1)) (9.1.0.70)\n",
      "Requirement already satisfied: nvidia-cublas-cu12==12.4.5.8 in /home/seo/miniconda3/envs/myvenv/lib/python3.11/site-packages (from torch->-r /home/seo/miniconda3/envs/myvenv/lib/python3.11/site-packages/brainscore_vision/models/scaling_models/requirements.txt (line 1)) (12.4.5.8)\n",
      "Requirement already satisfied: nvidia-cufft-cu12==11.2.1.3 in /home/seo/miniconda3/envs/myvenv/lib/python3.11/site-packages (from torch->-r /home/seo/miniconda3/envs/myvenv/lib/python3.11/site-packages/brainscore_vision/models/scaling_models/requirements.txt (line 1)) (11.2.1.3)\n",
      "Requirement already satisfied: nvidia-curand-cu12==10.3.5.147 in /home/seo/miniconda3/envs/myvenv/lib/python3.11/site-packages (from torch->-r /home/seo/miniconda3/envs/myvenv/lib/python3.11/site-packages/brainscore_vision/models/scaling_models/requirements.txt (line 1)) (10.3.5.147)\n",
      "Requirement already satisfied: nvidia-cusolver-cu12==11.6.1.9 in /home/seo/miniconda3/envs/myvenv/lib/python3.11/site-packages (from torch->-r /home/seo/miniconda3/envs/myvenv/lib/python3.11/site-packages/brainscore_vision/models/scaling_models/requirements.txt (line 1)) (11.6.1.9)\n",
      "Requirement already satisfied: nvidia-cusparse-cu12==12.3.1.170 in /home/seo/miniconda3/envs/myvenv/lib/python3.11/site-packages (from torch->-r /home/seo/miniconda3/envs/myvenv/lib/python3.11/site-packages/brainscore_vision/models/scaling_models/requirements.txt (line 1)) (12.3.1.170)\n",
      "Requirement already satisfied: nvidia-nccl-cu12==2.21.5 in /home/seo/miniconda3/envs/myvenv/lib/python3.11/site-packages (from torch->-r /home/seo/miniconda3/envs/myvenv/lib/python3.11/site-packages/brainscore_vision/models/scaling_models/requirements.txt (line 1)) (2.21.5)\n",
      "Requirement already satisfied: nvidia-nvtx-cu12==12.4.127 in /home/seo/miniconda3/envs/myvenv/lib/python3.11/site-packages (from torch->-r /home/seo/miniconda3/envs/myvenv/lib/python3.11/site-packages/brainscore_vision/models/scaling_models/requirements.txt (line 1)) (12.4.127)\n",
      "Requirement already satisfied: nvidia-nvjitlink-cu12==12.4.127 in /home/seo/miniconda3/envs/myvenv/lib/python3.11/site-packages (from torch->-r /home/seo/miniconda3/envs/myvenv/lib/python3.11/site-packages/brainscore_vision/models/scaling_models/requirements.txt (line 1)) (12.4.127)\n",
      "Requirement already satisfied: triton==3.1.0 in /home/seo/miniconda3/envs/myvenv/lib/python3.11/site-packages (from torch->-r /home/seo/miniconda3/envs/myvenv/lib/python3.11/site-packages/brainscore_vision/models/scaling_models/requirements.txt (line 1)) (3.1.0)\n",
      "Requirement already satisfied: sympy==1.13.1 in /home/seo/miniconda3/envs/myvenv/lib/python3.11/site-packages (from torch->-r /home/seo/miniconda3/envs/myvenv/lib/python3.11/site-packages/brainscore_vision/models/scaling_models/requirements.txt (line 1)) (1.13.1)\n",
      "Requirement already satisfied: mpmath<1.4,>=1.1.0 in /home/seo/miniconda3/envs/myvenv/lib/python3.11/site-packages (from sympy==1.13.1->torch->-r /home/seo/miniconda3/envs/myvenv/lib/python3.11/site-packages/brainscore_vision/models/scaling_models/requirements.txt (line 1)) (1.3.0)\n",
      "Requirement already satisfied: numpy in /home/seo/miniconda3/envs/myvenv/lib/python3.11/site-packages (from torchvision->-r /home/seo/miniconda3/envs/myvenv/lib/python3.11/site-packages/brainscore_vision/models/scaling_models/requirements.txt (line 2)) (1.26.4)\n",
      "Requirement already satisfied: pillow!=8.3.*,>=5.3.0 in /home/seo/miniconda3/envs/myvenv/lib/python3.11/site-packages (from torchvision->-r /home/seo/miniconda3/envs/myvenv/lib/python3.11/site-packages/brainscore_vision/models/scaling_models/requirements.txt (line 2)) (11.0.0)\n",
      "Requirement already satisfied: scipy>=1.10.0 in /home/seo/miniconda3/envs/myvenv/lib/python3.11/site-packages (from albumentations->-r /home/seo/miniconda3/envs/myvenv/lib/python3.11/site-packages/brainscore_vision/models/scaling_models/requirements.txt (line 3)) (1.14.1)\n",
      "Requirement already satisfied: PyYAML in /home/seo/miniconda3/envs/myvenv/lib/python3.11/site-packages (from albumentations->-r /home/seo/miniconda3/envs/myvenv/lib/python3.11/site-packages/brainscore_vision/models/scaling_models/requirements.txt (line 3)) (6.0.2)\n",
      "Collecting pydantic>=2.9.2 (from albumentations->-r /home/seo/miniconda3/envs/myvenv/lib/python3.11/site-packages/brainscore_vision/models/scaling_models/requirements.txt (line 3))\n",
      "  Using cached pydantic-2.10.3-py3-none-any.whl.metadata (172 kB)\n",
      "Collecting albucore==0.0.21 (from albumentations->-r /home/seo/miniconda3/envs/myvenv/lib/python3.11/site-packages/brainscore_vision/models/scaling_models/requirements.txt (line 3))\n",
      "  Using cached albucore-0.0.21-py3-none-any.whl.metadata (5.3 kB)\n",
      "Collecting eval-type-backport (from albumentations->-r /home/seo/miniconda3/envs/myvenv/lib/python3.11/site-packages/brainscore_vision/models/scaling_models/requirements.txt (line 3))\n",
      "  Using cached eval_type_backport-0.2.0-py3-none-any.whl.metadata (2.2 kB)\n",
      "Collecting opencv-python-headless>=4.9.0.80 (from albumentations->-r /home/seo/miniconda3/envs/myvenv/lib/python3.11/site-packages/brainscore_vision/models/scaling_models/requirements.txt (line 3))\n",
      "  Using cached opencv_python_headless-4.10.0.84-cp37-abi3-manylinux_2_17_x86_64.manylinux2014_x86_64.whl.metadata (20 kB)\n",
      "Collecting stringzilla>=3.10.4 (from albucore==0.0.21->albumentations->-r /home/seo/miniconda3/envs/myvenv/lib/python3.11/site-packages/brainscore_vision/models/scaling_models/requirements.txt (line 3))\n",
      "  Using cached stringzilla-3.11.1-cp311-cp311-manylinux_2_5_x86_64.manylinux1_x86_64.manylinux_2_28_x86_64.whl.metadata (80 kB)\n",
      "Collecting simsimd>=5.9.2 (from albucore==0.0.21->albumentations->-r /home/seo/miniconda3/envs/myvenv/lib/python3.11/site-packages/brainscore_vision/models/scaling_models/requirements.txt (line 3))\n",
      "  Using cached simsimd-6.2.1-cp311-cp311-manylinux_2_28_x86_64.whl.metadata (66 kB)\n",
      "Collecting huggingface_hub (from timm->-r /home/seo/miniconda3/envs/myvenv/lib/python3.11/site-packages/brainscore_vision/models/scaling_models/requirements.txt (line 4))\n",
      "  Using cached huggingface_hub-0.26.5-py3-none-any.whl.metadata (13 kB)\n",
      "Collecting safetensors (from timm->-r /home/seo/miniconda3/envs/myvenv/lib/python3.11/site-packages/brainscore_vision/models/scaling_models/requirements.txt (line 4))\n",
      "  Using cached safetensors-0.4.5-cp311-cp311-manylinux_2_17_x86_64.manylinux2014_x86_64.whl.metadata (3.8 kB)\n",
      "Collecting annotated-types>=0.6.0 (from pydantic>=2.9.2->albumentations->-r /home/seo/miniconda3/envs/myvenv/lib/python3.11/site-packages/brainscore_vision/models/scaling_models/requirements.txt (line 3))\n",
      "  Using cached annotated_types-0.7.0-py3-none-any.whl.metadata (15 kB)\n",
      "Collecting pydantic-core==2.27.1 (from pydantic>=2.9.2->albumentations->-r /home/seo/miniconda3/envs/myvenv/lib/python3.11/site-packages/brainscore_vision/models/scaling_models/requirements.txt (line 3))\n",
      "  Using cached pydantic_core-2.27.1-cp311-cp311-manylinux_2_17_x86_64.manylinux2014_x86_64.whl.metadata (6.6 kB)\n",
      "Requirement already satisfied: packaging>=20.9 in /home/seo/miniconda3/envs/myvenv/lib/python3.11/site-packages (from huggingface_hub->timm->-r /home/seo/miniconda3/envs/myvenv/lib/python3.11/site-packages/brainscore_vision/models/scaling_models/requirements.txt (line 4)) (24.2)\n",
      "Requirement already satisfied: requests in /home/seo/miniconda3/envs/myvenv/lib/python3.11/site-packages (from huggingface_hub->timm->-r /home/seo/miniconda3/envs/myvenv/lib/python3.11/site-packages/brainscore_vision/models/scaling_models/requirements.txt (line 4)) (2.32.3)\n",
      "Requirement already satisfied: tqdm>=4.42.1 in /home/seo/miniconda3/envs/myvenv/lib/python3.11/site-packages (from huggingface_hub->timm->-r /home/seo/miniconda3/envs/myvenv/lib/python3.11/site-packages/brainscore_vision/models/scaling_models/requirements.txt (line 4)) (4.67.1)\n",
      "Requirement already satisfied: MarkupSafe>=2.0 in /home/seo/miniconda3/envs/myvenv/lib/python3.11/site-packages (from jinja2->torch->-r /home/seo/miniconda3/envs/myvenv/lib/python3.11/site-packages/brainscore_vision/models/scaling_models/requirements.txt (line 1)) (3.0.2)\n",
      "Requirement already satisfied: charset-normalizer<4,>=2 in /home/seo/miniconda3/envs/myvenv/lib/python3.11/site-packages (from requests->huggingface_hub->timm->-r /home/seo/miniconda3/envs/myvenv/lib/python3.11/site-packages/brainscore_vision/models/scaling_models/requirements.txt (line 4)) (3.4.0)\n",
      "Requirement already satisfied: idna<4,>=2.5 in /home/seo/miniconda3/envs/myvenv/lib/python3.11/site-packages (from requests->huggingface_hub->timm->-r /home/seo/miniconda3/envs/myvenv/lib/python3.11/site-packages/brainscore_vision/models/scaling_models/requirements.txt (line 4)) (3.10)\n",
      "Requirement already satisfied: urllib3<3,>=1.21.1 in /home/seo/miniconda3/envs/myvenv/lib/python3.11/site-packages (from requests->huggingface_hub->timm->-r /home/seo/miniconda3/envs/myvenv/lib/python3.11/site-packages/brainscore_vision/models/scaling_models/requirements.txt (line 4)) (2.2.3)\n",
      "Requirement already satisfied: certifi>=2017.4.17 in /home/seo/miniconda3/envs/myvenv/lib/python3.11/site-packages (from requests->huggingface_hub->timm->-r /home/seo/miniconda3/envs/myvenv/lib/python3.11/site-packages/brainscore_vision/models/scaling_models/requirements.txt (line 4)) (2024.8.30)\n",
      "Using cached torchvision-0.20.1-cp311-cp311-manylinux1_x86_64.whl (7.2 MB)\n",
      "Using cached albumentations-1.4.22-py3-none-any.whl (258 kB)\n",
      "Using cached albucore-0.0.21-py3-none-any.whl (12 kB)\n",
      "Using cached timm-1.0.12-py3-none-any.whl (2.4 MB)\n",
      "Using cached opencv_python_headless-4.10.0.84-cp37-abi3-manylinux_2_17_x86_64.manylinux2014_x86_64.whl (49.9 MB)\n",
      "Using cached pydantic-2.10.3-py3-none-any.whl (456 kB)\n",
      "Using cached pydantic_core-2.27.1-cp311-cp311-manylinux_2_17_x86_64.manylinux2014_x86_64.whl (2.1 MB)\n",
      "Using cached eval_type_backport-0.2.0-py3-none-any.whl (5.9 kB)\n",
      "Using cached huggingface_hub-0.26.5-py3-none-any.whl (447 kB)\n",
      "Using cached safetensors-0.4.5-cp311-cp311-manylinux_2_17_x86_64.manylinux2014_x86_64.whl (435 kB)\n",
      "Using cached annotated_types-0.7.0-py3-none-any.whl (13 kB)\n",
      "Using cached simsimd-6.2.1-cp311-cp311-manylinux_2_28_x86_64.whl (632 kB)\n",
      "Using cached stringzilla-3.11.1-cp311-cp311-manylinux_2_5_x86_64.manylinux1_x86_64.manylinux_2_28_x86_64.whl (306 kB)\n",
      "Installing collected packages: stringzilla, simsimd, safetensors, pydantic-core, opencv-python-headless, eval-type-backport, annotated-types, pydantic, huggingface_hub, albucore, albumentations, torchvision, timm\n",
      "Successfully installed albucore-0.0.21 albumentations-1.4.22 annotated-types-0.7.0 eval-type-backport-0.2.0 huggingface_hub-0.26.5 opencv-python-headless-4.10.0.84 pydantic-2.10.3 pydantic-core-2.27.1 safetensors-0.4.5 simsimd-6.2.1 stringzilla-3.11.1 timm-1.0.12 torchvision-0.20.1\n",
      "Model loaded from https://epfl-neuroailab-scalinglaws.s3.eu-north-1.amazonaws.com/checkpoints/deit_large_imagenet_full_seed-0/ep300.pt\n"
     ]
    }
   ],
   "source": [
    "import torch\n",
    "import numpy as np\n",
    "import os\n",
    "import glob\n",
    "from brainscore_vision import load_model"
   ]
  },
  {
   "cell_type": "code",
   "execution_count": null,
   "id": "698c73a0",
   "metadata": {},
   "outputs": [],
   "source": [
    "model = load_model('deit_base_imagenet_full_seed-0')\n",
    "act_model = model.activations_model"
   ]
  },
  {
   "cell_type": "code",
   "execution_count": 4,
   "id": "1e7105d2-3ec5-4332-a60f-757f305d8d77",
   "metadata": {},
   "outputs": [],
   "source": [
    "layers = ['blocks.3.mlp.fc1', 'blocks.8.norm2', 'blocks.3.mlp.act', 'blocks.9.norm2']"
   ]
  },
  {
   "cell_type": "code",
   "execution_count": null,
   "id": "45464eee",
   "metadata": {},
   "outputs": [],
   "source": [
    "imagenet = f'{ os.getcwd() }/data/imagenet/val'"
   ]
  },
  {
   "cell_type": "code",
   "execution_count": 5,
   "id": "9f83440d-6a45-4c65-a6a4-c92edce47dc7",
   "metadata": {},
   "outputs": [],
   "source": [
    "stimuli = glob.glob(os.path.join(imagenet, '**'), recursive=True)\n",
    "stimuli = [ stimulus for stimulus in stimuli if os.path.isfile(stimulus) ]"
   ]
  },
  {
   "cell_type": "code",
   "execution_count": null,
   "id": "7e88399b",
   "metadata": {},
   "outputs": [],
   "source": [
    "output = f'{ os.getcwd() }/data/output/deit-base'"
   ]
  },
  {
   "cell_type": "code",
   "execution_count": 7,
   "id": "f10279a0",
   "metadata": {},
   "outputs": [
    {
     "data": {
      "application/vnd.jupyter.widget-view+json": {
       "model_id": "aa179cd16b164ec6b4e0022b6e4109c7",
       "version_major": 2,
       "version_minor": 0
      },
      "text/plain": [
       "activations:   0%|          | 0/1024 [00:00<?, ?it/s]"
      ]
     },
     "metadata": {},
     "output_type": "display_data"
    },
    {
     "ename": "",
     "evalue": "",
     "output_type": "error",
     "traceback": [
      "\u001b[1;31mThe Kernel crashed while executing code in the current cell or a previous cell. \n",
      "\u001b[1;31mPlease review the code in the cell(s) to identify a possible cause of the failure. \n",
      "\u001b[1;31mClick <a href='https://aka.ms/vscodeJupyterKernelCrash'>here</a> for more info. \n",
      "\u001b[1;31mView Jupyter <a href='command:jupyter.viewOutput'>log</a> for further details."
     ]
    }
   ],
   "source": [
    "# Set batch size for processing\n",
    "batch_size = 1000\n",
    "\n",
    "# Initialize counter for file naming\n",
    "counter = 1\n",
    "\n",
    "# Loop through the stimuli in batches\n",
    "for batch_start in range(0, len(stimuli), batch_size):\n",
    "  batch = stimuli[batch_start:batch_start + batch_size]\n",
    "  model_extraction = act_model(batch, layers)\n",
    "  layers = model_extraction['layer'].values\n",
    "  features_by_layer = {\n",
    "    layer: model_extraction.sel(neuroid=model_extraction['layer'] == layer).data\n",
    "    for layer in layers\n",
    "  }\n",
    "  npz_data = {\n",
    "    layer_name: features \n",
    "    for layer_name, features in features_by_layer.items()\n",
    "  }\n",
    "  np.savez(os.path.join(output, '{}-{}.npz'.format(model.identifier, counter)), **npz_data)\n",
    "  counter += 1"
   ]
  }
 ],
 "metadata": {
  "kernelspec": {
   "display_name": "CS-433",
   "language": "python",
   "name": "python3"
  },
  "language_info": {
   "codemirror_mode": {
    "name": "ipython",
    "version": 3
   },
   "file_extension": ".py",
   "mimetype": "text/x-python",
   "name": "python",
   "nbconvert_exporter": "python",
   "pygments_lexer": "ipython3",
   "version": "3.11.11"
  }
 },
 "nbformat": 4,
 "nbformat_minor": 5
}
