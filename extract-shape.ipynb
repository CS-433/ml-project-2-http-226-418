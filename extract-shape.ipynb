{
 "cells": [
  {
   "cell_type": "code",
   "execution_count": null,
   "id": "dd41f734-0d56-460a-8103-23d799676ab7",
   "metadata": {},
   "outputs": [],
   "source": [
    "import torch\n",
    "import numpy as np\n",
    "import os\n",
    "import glob\n",
    "from brainscore_vision import load_model"
   ]
  },
  {
   "cell_type": "code",
   "execution_count": 2,
   "id": "693ab1e5",
   "metadata": {},
   "outputs": [],
   "source": [
    "models = [\n",
    "  'alexnet',\n",
    "  'resnet-50-robust',\n",
    "  'resnet152_imagenet_full',\n",
    "  'resnext101_32x32d_wsl',\n",
    "  'convnext_small_imagenet_100_seed-0',\n",
    "  'convnext_small_imagenet_10_seed-0',\n",
    "  'resnext101_32x48d_wsl',\n",
    "  'resnet50_ecoset_full',\n",
    "  'resnet50_imagenet_100_seed-0',\n",
    "  'resnet101_ecoset_full',\n",
    "  'resnext101_32x8d_wsl',\n",
    "  'convnext_small_imagenet_full_seed-0',\n",
    "  'convnext_tiny_imagenet_full_seed-0',\n",
    "  'deit_small_imagenet_100_seed-0',\n",
    "  'convnext_base_imagenet_full_seed-0',\n",
    "  'resnet50_tutorial',\n",
    "  'resnet101_imagenet_full',\n",
    "  'convnext_large_imagenet_full_seed-0',\n",
    "  'resnet50_imagenet_full',\n",
    "  'resnet18_imagenet_full',\n",
    "  'resnet152_ecoset_full',\n",
    "  'resnet18_ecoset_full',\n",
    "  'resnet-152_v2_pytorch',\n",
    "  'resnet34_ecoset_full',\n",
    "  'resnet18_imagenet21kP',\n",
    "  ]"
   ]
  },
  {
   "cell_type": "code",
   "execution_count": null,
   "id": "698c73a0",
   "metadata": {},
   "outputs": [],
   "source": [
    "model = load_model('<put-model-name-here>') # TODO: When using this notebook,put the layer's name here\n",
    "act_model = model.activations_model"
   ]
  },
  {
   "cell_type": "code",
   "execution_count": 4,
   "id": "1e7105d2-3ec5-4332-a60f-757f305d8d77",
   "metadata": {},
   "outputs": [],
   "source": [
    "layers = ['<put-layer-name-here>'] # TODO: When using this notebook, put the layer's name here"
   ]
  },
  {
   "cell_type": "code",
   "execution_count": 5,
   "id": "9f83440d-6a45-4c65-a6a4-c92edce47dc7",
   "metadata": {},
   "outputs": [],
   "source": [
    "imagenet = f'{ os.getcwd() }/data/imagenet/val'\n",
    "stimuli = glob.glob(os.path.join(imagenet, '**'), recursive=True)\n",
    "stimuli = [ stimulus for stimulus in stimuli if os.path.isfile(stimulus) ]"
   ]
  },
  {
   "cell_type": "code",
   "execution_count": null,
   "id": "f10279a0",
   "metadata": {},
   "outputs": [],
   "source": [
    "batch = stimuli[0:1]\n",
    "model_extraction = act_model(batch, layers)\n",
    "model_extraction"
   ]
  }
 ],
 "metadata": {
  "kernelspec": {
   "display_name": "cs433-project2",
   "language": "python",
   "name": "python3"
  },
  "language_info": {
   "codemirror_mode": {
    "name": "ipython",
    "version": 3
   },
   "file_extension": ".py",
   "mimetype": "text/x-python",
   "name": "python",
   "nbconvert_exporter": "python",
   "pygments_lexer": "ipython3",
   "version": "3.11.10"
  }
 },
 "nbformat": 4,
 "nbformat_minor": 5
}
