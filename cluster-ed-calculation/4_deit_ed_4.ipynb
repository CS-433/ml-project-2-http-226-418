{
 "cells": [
  {
   "cell_type": "code",
   "execution_count": 1,
   "metadata": {},
   "outputs": [
    {
     "name": "stdout",
     "output_type": "stream",
     "text": [
      "loading extracted_data/deit_large_imagenet_full_seed-0-11.npz\n",
      "loading extracted_data/deit_large_imagenet_full_seed-0-18.npz\n"
     ]
    },
    {
     "ename": "",
     "evalue": "",
     "output_type": "error",
     "traceback": [
      "\u001b[1;31mThe Kernel crashed while executing code in the current cell or a previous cell. \n",
      "\u001b[1;31mPlease review the code in the cell(s) to identify a possible cause of the failure. \n",
      "\u001b[1;31mClick <a href='https://aka.ms/vscodeJupyterKernelCrash'>here</a> for more info. \n",
      "\u001b[1;31mView Jupyter <a href='command:jupyter.viewOutput'>log</a> for further details."
     ]
    }
   ],
   "source": [
    "import numpy as np\n",
    "import os\n",
    "\n",
    "def flatten(layer_output):\n",
    "    return layer_output.reshape(layer_output.shape[0], -1)\n",
    "\n",
    "def global_avg_pooling(layer_output):\n",
    "    if len(layer_output.shape) != 4:\n",
    "        raise ValueError(f\"Input features must be a 4D array instead of {layer_output.shape}D\")\n",
    "    return layer_output.mean(axis=(2, 3))\n",
    "\n",
    "# Define the directory containing .npz files\n",
    "folder_path = 'extracted_data'\n",
    "output_path = f'{folder_path}/ed'\n",
    "\n",
    "# Initialize a dictionary to store the aggregated sums\n",
    "aggregated_sums_num = {}\n",
    "aggregated_sums_denom = {}\n",
    "file_count = 0\n",
    "\n",
    "use_global_avg_pooling = False\n",
    "use_flatten = False\n",
    "\n",
    "selected_layer = ['blocks.4.norm1', 'blocks.18.norm2', 'blocks.9.norm1', 'blocks.20.norm2']\n",
    "\n",
    "all_data = {}\n",
    "for file_name in os.listdir(folder_path):\n",
    "    if file_name.endswith('.npz'):\n",
    "        file_path = os.path.join(folder_path, file_name)\n",
    "        print(f'loading {file_path}')\n",
    "        data = np.load(file_path)\n",
    "        #for key in data.files:\n",
    "        for key in selected_layer:\n",
    "            if key not in all_data:\n",
    "                all_data[key] = []\n",
    "            array = data[key]\n",
    "            array = array[:, :1024]\n",
    "            \n",
    "            if use_global_avg_pooling:\n",
    "                array = global_avg_pooling(array)\n",
    "            \n",
    "            if use_flatten:\n",
    "                array = flatten(array)\n",
    "            \n",
    "            all_data[key].append(array)\n",
    "\n",
    "# Concatenate all arrays for each key\n",
    "for key in all_data:\n",
    "    all_data[key] = np.vstack(all_data[key])\n",
    "\n",
    "effective_dimensionality = {}\n",
    "for key, array in all_data.items():\n",
    "    singular_values = np.linalg.svd(array, compute_uv=False)\n",
    "    effective_dimensionality[key] = (singular_values.sum())**2 / (np.sum(singular_values**2))\n",
    "\n",
    "output_file = os.path.join(output_path, 'new-ed.npz')\n",
    "print(effective_dimensionality)\n",
    "np.savez(output_file, **effective_dimensionality)"
   ]
  }
 ],
 "metadata": {
  "kernelspec": {
   "display_name": "myvenv3",
   "language": "python",
   "name": "python3"
  },
  "language_info": {
   "codemirror_mode": {
    "name": "ipython",
    "version": 3
   },
   "file_extension": ".py",
   "mimetype": "text/x-python",
   "name": "python",
   "nbconvert_exporter": "python",
   "pygments_lexer": "ipython3",
   "version": "3.11.11"
  }
 },
 "nbformat": 4,
 "nbformat_minor": 2
}
