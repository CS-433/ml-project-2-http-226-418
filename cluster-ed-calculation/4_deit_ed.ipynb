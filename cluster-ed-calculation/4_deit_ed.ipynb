{
 "cells": [
  {
   "cell_type": "code",
   "execution_count": 1,
   "metadata": {},
   "outputs": [
    {
     "name": "stdout",
     "output_type": "stream",
     "text": [
      "loading extracted_data/deit_large_imagenet_full_seed-0-11.npz\n",
      "loading extracted_data/deit_large_imagenet_full_seed-0-18.npz\n",
      "loading extracted_data/deit_large_imagenet_full_seed-0-39.npz\n",
      "loading extracted_data/deit_large_imagenet_full_seed-0-14.npz\n",
      "loading extracted_data/deit_large_imagenet_full_seed-0-49.npz\n",
      "loading extracted_data/deit_large_imagenet_full_seed-0-24.npz\n",
      "loading extracted_data/deit_large_imagenet_full_seed-0-32.npz\n",
      "loading extracted_data/deit_large_imagenet_full_seed-0-19.npz\n",
      "loading extracted_data/deit_large_imagenet_full_seed-0-34.npz\n",
      "loading extracted_data/deit_large_imagenet_full_seed-0-8.npz\n",
      "loading extracted_data/deit_large_imagenet_full_seed-0-50.npz\n",
      "loading extracted_data/deit_large_imagenet_full_seed-0-28.npz\n",
      "loading extracted_data/deit_large_imagenet_full_seed-0-46.npz\n",
      "loading extracted_data/deit_large_imagenet_full_seed-0-26.npz\n",
      "loading extracted_data/deit_large_imagenet_full_seed-0-7.npz\n",
      "loading extracted_data/deit_large_imagenet_full_seed-0-45.npz\n",
      "loading extracted_data/deit_large_imagenet_full_seed-0-17.npz\n",
      "loading extracted_data/deit_large_imagenet_full_seed-0-9.npz\n",
      "loading extracted_data/deit_large_imagenet_full_seed-0-25.npz\n",
      "loading extracted_data/deit_large_imagenet_full_seed-0-23.npz\n",
      "loading extracted_data/deit_large_imagenet_full_seed-0-22.npz\n",
      "loading extracted_data/deit_large_imagenet_full_seed-0-6.npz\n",
      "loading extracted_data/deit_large_imagenet_full_seed-0-3.npz\n",
      "loading extracted_data/deit_large_imagenet_full_seed-0-31.npz\n",
      "loading extracted_data/deit_large_imagenet_full_seed-0-21.npz\n",
      "loading extracted_data/deit_large_imagenet_full_seed-0-29.npz\n",
      "loading extracted_data/deit_large_imagenet_full_seed-0-47.npz\n",
      "loading extracted_data/deit_large_imagenet_full_seed-0-36.npz\n",
      "loading extracted_data/deit_large_imagenet_full_seed-0-5.npz\n",
      "loading extracted_data/deit_large_imagenet_full_seed-0-13.npz\n",
      "loading extracted_data/deit_large_imagenet_full_seed-0-41.npz\n",
      "loading extracted_data/deit_large_imagenet_full_seed-0-38.npz\n",
      "loading extracted_data/deit_large_imagenet_full_seed-0-30.npz\n",
      "loading extracted_data/deit_large_imagenet_full_seed-0-12.npz\n",
      "loading extracted_data/deit_large_imagenet_full_seed-0-40.npz\n",
      "loading extracted_data/deit_large_imagenet_full_seed-0-35.npz\n",
      "loading extracted_data/deit_large_imagenet_full_seed-0-1.npz\n",
      "loading extracted_data/deit_large_imagenet_full_seed-0-16.npz\n",
      "loading extracted_data/deit_large_imagenet_full_seed-0-10.npz\n",
      "loading extracted_data/deit_large_imagenet_full_seed-0-15.npz\n",
      "loading extracted_data/deit_large_imagenet_full_seed-0-2.npz\n",
      "loading extracted_data/deit_large_imagenet_full_seed-0-33.npz\n",
      "loading extracted_data/deit_large_imagenet_full_seed-0-27.npz\n",
      "loading extracted_data/deit_large_imagenet_full_seed-0-44.npz\n",
      "loading extracted_data/deit_large_imagenet_full_seed-0-43.npz\n",
      "loading extracted_data/deit_large_imagenet_full_seed-0-20.npz\n",
      "loading extracted_data/deit_large_imagenet_full_seed-0-37.npz\n",
      "loading extracted_data/deit_large_imagenet_full_seed-0-42.npz\n",
      "loading extracted_data/deit_large_imagenet_full_seed-0-4.npz\n",
      "loading extracted_data/deit_large_imagenet_full_seed-0-48.npz\n"
     ]
    },
    {
     "name": "stderr",
     "output_type": "stream",
     "text": [
      "/tmp/ipykernel_3522548/2893925948.py:55: RuntimeWarning: invalid value encountered in sqrt\n",
      "  singular_values = np.sqrt(np.linalg.eigvalsh(cov_matrix))\n"
     ]
    },
    {
     "ename": "KeyboardInterrupt",
     "evalue": "",
     "output_type": "error",
     "traceback": [
      "\u001b[0;31m---------------------------------------------------------------------------\u001b[0m",
      "\u001b[0;31mKeyboardInterrupt\u001b[0m                         Traceback (most recent call last)",
      "Cell \u001b[0;32mIn[1], line 55\u001b[0m\n\u001b[1;32m     52\u001b[0m     cov_matrix \u001b[38;5;241m/\u001b[39m\u001b[38;5;241m=\u001b[39m total_samples[key]\n\u001b[1;32m     54\u001b[0m     \u001b[38;5;66;03m# Compute singular values (sqrt of eigenvalues)\u001b[39;00m\n\u001b[0;32m---> 55\u001b[0m     singular_values \u001b[38;5;241m=\u001b[39m np\u001b[38;5;241m.\u001b[39msqrt(\u001b[43mnp\u001b[49m\u001b[38;5;241;43m.\u001b[39;49m\u001b[43mlinalg\u001b[49m\u001b[38;5;241;43m.\u001b[39;49m\u001b[43meigvalsh\u001b[49m\u001b[43m(\u001b[49m\u001b[43mcov_matrix\u001b[49m\u001b[43m)\u001b[49m)\n\u001b[1;32m     56\u001b[0m     effective_dimensionality[key] \u001b[38;5;241m=\u001b[39m (singular_values\u001b[38;5;241m.\u001b[39msum())\u001b[38;5;241m*\u001b[39m\u001b[38;5;241m*\u001b[39m\u001b[38;5;241m2\u001b[39m \u001b[38;5;241m/\u001b[39m (np\u001b[38;5;241m.\u001b[39msum(singular_values\u001b[38;5;241m*\u001b[39m\u001b[38;5;241m*\u001b[39m\u001b[38;5;241m2\u001b[39m))\n\u001b[1;32m     58\u001b[0m \u001b[38;5;66;03m# Save results\u001b[39;00m\n",
      "File \u001b[0;32m~/miniconda3/envs/myvenv3/lib/python3.11/site-packages/numpy/linalg/linalg.py:1181\u001b[0m, in \u001b[0;36meigvalsh\u001b[0;34m(a, UPLO)\u001b[0m\n\u001b[1;32m   1179\u001b[0m t, result_t \u001b[38;5;241m=\u001b[39m _commonType(a)\n\u001b[1;32m   1180\u001b[0m signature \u001b[38;5;241m=\u001b[39m \u001b[38;5;124m'\u001b[39m\u001b[38;5;124mD->d\u001b[39m\u001b[38;5;124m'\u001b[39m \u001b[38;5;28;01mif\u001b[39;00m isComplexType(t) \u001b[38;5;28;01melse\u001b[39;00m \u001b[38;5;124m'\u001b[39m\u001b[38;5;124md->d\u001b[39m\u001b[38;5;124m'\u001b[39m\n\u001b[0;32m-> 1181\u001b[0m w \u001b[38;5;241m=\u001b[39m \u001b[43mgufunc\u001b[49m\u001b[43m(\u001b[49m\u001b[43ma\u001b[49m\u001b[43m,\u001b[49m\u001b[43m \u001b[49m\u001b[43msignature\u001b[49m\u001b[38;5;241;43m=\u001b[39;49m\u001b[43msignature\u001b[49m\u001b[43m,\u001b[49m\u001b[43m \u001b[49m\u001b[43mextobj\u001b[49m\u001b[38;5;241;43m=\u001b[39;49m\u001b[43mextobj\u001b[49m\u001b[43m)\u001b[49m\n\u001b[1;32m   1182\u001b[0m \u001b[38;5;28;01mreturn\u001b[39;00m w\u001b[38;5;241m.\u001b[39mastype(_realType(result_t), copy\u001b[38;5;241m=\u001b[39m\u001b[38;5;28;01mFalse\u001b[39;00m)\n",
      "\u001b[0;31mKeyboardInterrupt\u001b[0m: "
     ]
    }
   ],
   "source": [
    "import numpy as np\n",
    "import os\n",
    "\n",
    "def flatten(layer_output):\n",
    "    return layer_output.reshape(layer_output.shape[0], -1)\n",
    "\n",
    "def global_avg_pooling(layer_output):\n",
    "    if len(layer_output.shape) != 4:\n",
    "        raise ValueError(f\"Input features must be a 4D array instead of {layer_output.shape}D\")\n",
    "    return layer_output.mean(axis=(2, 3))\n",
    "\n",
    "# Define the directory containing .npz files\n",
    "folder_path = 'extracted_data'\n",
    "output_path = f'{folder_path}/ed'\n",
    "\n",
    "use_global_avg_pooling = False\n",
    "use_flatten = False\n",
    "\n",
    "# Initialize a dictionary to store covariance matrices\n",
    "covariance_matrices = {}\n",
    "total_samples = {}\n",
    "\n",
    "for file_name in os.listdir(folder_path):\n",
    "    if file_name.endswith('.npz'):\n",
    "        file_path = os.path.join(folder_path, file_name)\n",
    "        print(f'loading {file_path}')\n",
    "        data = np.load(file_path)\n",
    "        for key in data.files:\n",
    "            array = data[key]\n",
    "            array = array[:, :1024]\n",
    "\n",
    "            if use_global_avg_pooling:\n",
    "                array = global_avg_pooling(array)\n",
    "\n",
    "            if use_flatten:\n",
    "                array = flatten(array)\n",
    "\n",
    "            if key not in covariance_matrices:\n",
    "                # Initialize covariance matrix and sample count for this key\n",
    "                feature_dim = array.shape[1]\n",
    "                covariance_matrices[key] = np.zeros((feature_dim, feature_dim))\n",
    "                total_samples[key] = 0\n",
    "\n",
    "            # Update covariance matrix incrementally\n",
    "            covariance_matrices[key] += array.T @ array\n",
    "            total_samples[key] += array.shape[0]\n",
    "\n",
    "# Compute effective dimensionality\n",
    "effective_dimensionality = {}\n",
    "for key, cov_matrix in covariance_matrices.items():\n",
    "    # Normalize by total samples to get the final covariance matrix\n",
    "    cov_matrix /= total_samples[key]\n",
    "\n",
    "    # Compute singular values (sqrt of eigenvalues)\n",
    "    singular_values = np.sqrt(np.linalg.eigvalsh(cov_matrix))\n",
    "    effective_dimensionality[key] = (singular_values.sum())**2 / (np.sum(singular_values**2))\n",
    "\n",
    "# Save results\n",
    "output_file = os.path.join(output_path, 'new-ed.npz')\n",
    "print(effective_dimensionality)\n",
    "np.savez(output_file, **effective_dimensionality)"
   ]
  },
  {
   "cell_type": "code",
   "execution_count": 2,
   "metadata": {},
   "outputs": [
    {
     "name": "stdout",
     "output_type": "stream",
     "text": [
      "{'blocks.0.norm1': 50000, 'blocks.0.norm2': 50000, 'blocks.1.norm1': 50000, 'blocks.1.norm2': 50000, 'blocks.2.norm1': 50000, 'blocks.2.norm2': 50000, 'blocks.3.norm1': 50000, 'blocks.3.norm2': 50000, 'blocks.4.norm1': 50000, 'blocks.4.norm2': 50000, 'blocks.5.norm1': 50000, 'blocks.5.norm2': 50000, 'blocks.6.norm1': 50000, 'blocks.6.norm2': 50000, 'blocks.7.norm1': 50000, 'blocks.7.norm2': 50000, 'blocks.8.norm1': 50000, 'blocks.8.norm2': 50000, 'blocks.9.norm1': 50000, 'blocks.9.norm2': 50000, 'blocks.10.norm1': 50000, 'blocks.10.norm2': 50000, 'blocks.11.norm1': 50000, 'blocks.11.norm2': 50000, 'blocks.12.norm1': 50000, 'blocks.12.norm2': 50000, 'blocks.13.norm1': 50000, 'blocks.13.norm2': 50000, 'blocks.14.norm1': 50000, 'blocks.14.norm2': 50000, 'blocks.15.norm1': 50000, 'blocks.15.norm2': 50000, 'blocks.16.norm1': 50000, 'blocks.16.norm2': 50000, 'blocks.17.norm1': 50000, 'blocks.17.norm2': 50000, 'blocks.18.norm1': 50000, 'blocks.18.norm2': 50000, 'blocks.19.norm1': 50000, 'blocks.19.norm2': 50000, 'blocks.20.norm1': 50000, 'blocks.20.norm2': 50000, 'blocks.21.norm1': 50000, 'blocks.21.norm2': 50000, 'blocks.22.norm1': 50000, 'blocks.22.norm2': 50000, 'blocks.23.norm1': 50000, 'blocks.23.norm2': 50000, 'norm': 50000}\n"
     ]
    }
   ],
   "source": [
    "print(total_samples)"
   ]
  },
  {
   "cell_type": "code",
   "execution_count": 7,
   "metadata": {},
   "outputs": [
    {
     "name": "stdout",
     "output_type": "stream",
     "text": [
      "50000\n"
     ]
    }
   ],
   "source": [
    "print(total_samples['blocks.21.norm2'])"
   ]
  },
  {
   "cell_type": "code",
   "execution_count": 4,
   "metadata": {},
   "outputs": [],
   "source": [
    "layers = ['blocks.4.norm1', 'blocks.18.norm2', 'blocks.9.norm1', 'blocks.20.norm2']"
   ]
  },
  {
   "cell_type": "code",
   "execution_count": 5,
   "metadata": {},
   "outputs": [
    {
     "ename": "TypeError",
     "evalue": "arrays to stack must be passed as a \"sequence\" type such as list or tuple.",
     "output_type": "error",
     "traceback": [
      "\u001b[0;31m---------------------------------------------------------------------------\u001b[0m",
      "\u001b[0;31mTypeError\u001b[0m                                 Traceback (most recent call last)",
      "Cell \u001b[0;32mIn[5], line 2\u001b[0m\n\u001b[1;32m      1\u001b[0m \u001b[38;5;28;01mfor\u001b[39;00m key \u001b[38;5;129;01min\u001b[39;00m layers:\n\u001b[0;32m----> 2\u001b[0m     total_samples[key] \u001b[38;5;241m=\u001b[39m \u001b[43mnp\u001b[49m\u001b[38;5;241;43m.\u001b[39;49m\u001b[43mvstack\u001b[49m\u001b[43m(\u001b[49m\u001b[43mtotal_samples\u001b[49m\u001b[43m[\u001b[49m\u001b[43mkey\u001b[49m\u001b[43m]\u001b[49m\u001b[43m)\u001b[49m\n\u001b[1;32m      4\u001b[0m effective_dimensionality \u001b[38;5;241m=\u001b[39m {}\n\u001b[1;32m      5\u001b[0m \u001b[38;5;28;01mfor\u001b[39;00m key, array \u001b[38;5;129;01min\u001b[39;00m total_samples\u001b[38;5;241m.\u001b[39mitems():\n",
      "File \u001b[0;32m~/miniconda3/envs/myvenv3/lib/python3.11/site-packages/numpy/core/shape_base.py:216\u001b[0m, in \u001b[0;36m_vhstack_dispatcher\u001b[0;34m(tup, dtype, casting)\u001b[0m\n\u001b[1;32m    215\u001b[0m \u001b[38;5;28;01mdef\u001b[39;00m \u001b[38;5;21m_vhstack_dispatcher\u001b[39m(tup, \u001b[38;5;241m*\u001b[39m, dtype\u001b[38;5;241m=\u001b[39m\u001b[38;5;28;01mNone\u001b[39;00m, casting\u001b[38;5;241m=\u001b[39m\u001b[38;5;28;01mNone\u001b[39;00m):\n\u001b[0;32m--> 216\u001b[0m     \u001b[38;5;28;01mreturn\u001b[39;00m \u001b[43m_arrays_for_stack_dispatcher\u001b[49m\u001b[43m(\u001b[49m\u001b[43mtup\u001b[49m\u001b[43m)\u001b[49m\n",
      "File \u001b[0;32m~/miniconda3/envs/myvenv3/lib/python3.11/site-packages/numpy/core/shape_base.py:209\u001b[0m, in \u001b[0;36m_arrays_for_stack_dispatcher\u001b[0;34m(arrays)\u001b[0m\n\u001b[1;32m    207\u001b[0m \u001b[38;5;28;01mdef\u001b[39;00m \u001b[38;5;21m_arrays_for_stack_dispatcher\u001b[39m(arrays):\n\u001b[1;32m    208\u001b[0m     \u001b[38;5;28;01mif\u001b[39;00m \u001b[38;5;129;01mnot\u001b[39;00m \u001b[38;5;28mhasattr\u001b[39m(arrays, \u001b[38;5;124m\"\u001b[39m\u001b[38;5;124m__getitem__\u001b[39m\u001b[38;5;124m\"\u001b[39m):\n\u001b[0;32m--> 209\u001b[0m         \u001b[38;5;28;01mraise\u001b[39;00m \u001b[38;5;167;01mTypeError\u001b[39;00m(\u001b[38;5;124m'\u001b[39m\u001b[38;5;124marrays to stack must be passed as a \u001b[39m\u001b[38;5;124m\"\u001b[39m\u001b[38;5;124msequence\u001b[39m\u001b[38;5;124m\"\u001b[39m\u001b[38;5;124m type \u001b[39m\u001b[38;5;124m'\u001b[39m\n\u001b[1;32m    210\u001b[0m                         \u001b[38;5;124m'\u001b[39m\u001b[38;5;124msuch as list or tuple.\u001b[39m\u001b[38;5;124m'\u001b[39m)\n\u001b[1;32m    212\u001b[0m     \u001b[38;5;28;01mreturn\u001b[39;00m \u001b[38;5;28mtuple\u001b[39m(arrays)\n",
      "\u001b[0;31mTypeError\u001b[0m: arrays to stack must be passed as a \"sequence\" type such as list or tuple."
     ]
    }
   ],
   "source": [
    "for key in layers:\n",
    "    total_samples[key] = np.vstack(total_samples[key])\n",
    "\n",
    "effective_dimensionality = {}\n",
    "for key, array in total_samples.items():\n",
    "    singular_values = np.linalg.svd(array, compute_uv=False)\n",
    "    effective_dimensionality[key] = (singular_values.sum())**2 / (np.sum(singular_values**2))\n",
    "\n",
    "output_file = os.path.join(output_path, 'new-ed.npz')\n",
    "print(effective_dimensionality)"
   ]
  }
 ],
 "metadata": {
  "kernelspec": {
   "display_name": "myvenv3",
   "language": "python",
   "name": "python3"
  },
  "language_info": {
   "codemirror_mode": {
    "name": "ipython",
    "version": 3
   },
   "file_extension": ".py",
   "mimetype": "text/x-python",
   "name": "python",
   "nbconvert_exporter": "python",
   "pygments_lexer": "ipython3",
   "version": "3.11.11"
  }
 },
 "nbformat": 4,
 "nbformat_minor": 2
}
