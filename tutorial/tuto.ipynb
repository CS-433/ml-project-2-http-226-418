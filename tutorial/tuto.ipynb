{
 "cells": [
  {
   "cell_type": "code",
   "execution_count": 1,
   "id": "cb777715-81f7-4427-a64b-d8d76ff61540",
   "metadata": {},
   "outputs": [
    {
     "name": "stderr",
     "output_type": "stream",
     "text": [
      "/Users/hamzaremmal/.pyenv/versions/cs433-project2/lib/python3.11/site-packages/brainscore_core/metrics/__init__.py:16: FutureWarning: xarray subclass Score should explicitly define __slots__\n",
      "  class Score(DataAssembly):\n"
     ]
    },
    {
     "name": "stdout",
     "output_type": "stream",
     "text": [
      "Requirement already satisfied: torch in /Users/hamzaremmal/.pyenv/versions/cs433-project2/lib/python3.11/site-packages (from -r /Users/hamzaremmal/Desktop/IC-MA3/CS-433/project-2/brain-score/vision/brainscore_vision/models/alexnet/requirements.txt (line 1)) (2.5.1)\n",
      "Requirement already satisfied: torchvision in /Users/hamzaremmal/.pyenv/versions/cs433-project2/lib/python3.11/site-packages (from -r /Users/hamzaremmal/Desktop/IC-MA3/CS-433/project-2/brain-score/vision/brainscore_vision/models/alexnet/requirements.txt (line 2)) (0.20.1)\n",
      "Requirement already satisfied: filelock in /Users/hamzaremmal/.pyenv/versions/cs433-project2/lib/python3.11/site-packages (from torch->-r /Users/hamzaremmal/Desktop/IC-MA3/CS-433/project-2/brain-score/vision/brainscore_vision/models/alexnet/requirements.txt (line 1)) (3.16.1)\n",
      "Requirement already satisfied: typing-extensions>=4.8.0 in /Users/hamzaremmal/.pyenv/versions/cs433-project2/lib/python3.11/site-packages (from torch->-r /Users/hamzaremmal/Desktop/IC-MA3/CS-433/project-2/brain-score/vision/brainscore_vision/models/alexnet/requirements.txt (line 1)) (4.12.2)\n",
      "Requirement already satisfied: networkx in /Users/hamzaremmal/.pyenv/versions/cs433-project2/lib/python3.11/site-packages (from torch->-r /Users/hamzaremmal/Desktop/IC-MA3/CS-433/project-2/brain-score/vision/brainscore_vision/models/alexnet/requirements.txt (line 1)) (3.4.2)\n",
      "Requirement already satisfied: jinja2 in /Users/hamzaremmal/.pyenv/versions/cs433-project2/lib/python3.11/site-packages (from torch->-r /Users/hamzaremmal/Desktop/IC-MA3/CS-433/project-2/brain-score/vision/brainscore_vision/models/alexnet/requirements.txt (line 1)) (3.1.4)\n",
      "Requirement already satisfied: fsspec in /Users/hamzaremmal/.pyenv/versions/cs433-project2/lib/python3.11/site-packages (from torch->-r /Users/hamzaremmal/Desktop/IC-MA3/CS-433/project-2/brain-score/vision/brainscore_vision/models/alexnet/requirements.txt (line 1)) (2024.10.0)\n",
      "Requirement already satisfied: sympy==1.13.1 in /Users/hamzaremmal/.pyenv/versions/cs433-project2/lib/python3.11/site-packages (from torch->-r /Users/hamzaremmal/Desktop/IC-MA3/CS-433/project-2/brain-score/vision/brainscore_vision/models/alexnet/requirements.txt (line 1)) (1.13.1)\n",
      "Requirement already satisfied: mpmath<1.4,>=1.1.0 in /Users/hamzaremmal/.pyenv/versions/cs433-project2/lib/python3.11/site-packages (from sympy==1.13.1->torch->-r /Users/hamzaremmal/Desktop/IC-MA3/CS-433/project-2/brain-score/vision/brainscore_vision/models/alexnet/requirements.txt (line 1)) (1.3.0)\n",
      "Requirement already satisfied: numpy in /Users/hamzaremmal/.pyenv/versions/cs433-project2/lib/python3.11/site-packages (from torchvision->-r /Users/hamzaremmal/Desktop/IC-MA3/CS-433/project-2/brain-score/vision/brainscore_vision/models/alexnet/requirements.txt (line 2)) (1.26.4)\n",
      "Requirement already satisfied: pillow!=8.3.*,>=5.3.0 in /Users/hamzaremmal/.pyenv/versions/cs433-project2/lib/python3.11/site-packages (from torchvision->-r /Users/hamzaremmal/Desktop/IC-MA3/CS-433/project-2/brain-score/vision/brainscore_vision/models/alexnet/requirements.txt (line 2)) (11.0.0)\n",
      "Requirement already satisfied: MarkupSafe>=2.0 in /Users/hamzaremmal/.pyenv/versions/cs433-project2/lib/python3.11/site-packages (from jinja2->torch->-r /Users/hamzaremmal/Desktop/IC-MA3/CS-433/project-2/brain-score/vision/brainscore_vision/models/alexnet/requirements.txt (line 1)) (3.0.2)\n"
     ]
    },
    {
     "name": "stderr",
     "output_type": "stream",
     "text": [
      "/Users/hamzaremmal/.pyenv/versions/cs433-project2/lib/python3.11/site-packages/torchvision/models/_utils.py:208: UserWarning: The parameter 'pretrained' is deprecated since 0.13 and may be removed in the future, please use 'weights' instead.\n",
      "  warnings.warn(\n",
      "/Users/hamzaremmal/.pyenv/versions/cs433-project2/lib/python3.11/site-packages/torchvision/models/_utils.py:223: UserWarning: Arguments other than a weight enum or `None` for 'weights' are deprecated since 0.13 and may be removed in the future. The current behavior is equivalent to passing `weights=AlexNet_Weights.IMAGENET1K_V1`. You can also use `weights=AlexNet_Weights.DEFAULT` to get the most up-to-date weights.\n",
      "  warnings.warn(msg)\n"
     ]
    },
    {
     "name": "stdout",
     "output_type": "stream",
     "text": [
      "<xarray.NeuroidAssembly (presentation: 135, neuroid: 46656)>\n",
      "array([[0.       , 0.       , 0.       , ..., 0.       , 0.       ,\n",
      "        0.0477892],\n",
      "       [0.       , 0.       , 0.       , ..., 0.       , 0.       ,\n",
      "        0.0477892],\n",
      "       [0.       , 0.       , 0.       , ..., 0.       , 0.       ,\n",
      "        0.0477892],\n",
      "       ...,\n",
      "       [0.       , 0.       , 0.       , ..., 0.       , 0.       ,\n",
      "        0.0477892],\n",
      "       [0.       , 0.       , 0.       , ..., 0.       , 0.       ,\n",
      "        0.0477892],\n",
      "       [0.       , 0.       , 0.       , ..., 0.       , 0.       ,\n",
      "        0.0477892]], dtype=float32)\n",
      "Coordinates:\n",
      "  * presentation                  (presentation) MultiIndex\n",
      "  - image_file_sha1               (presentation) object '21041db1f26c142812a6...\n",
      "  - resolution                    (presentation) object '320x320' ... '320x320'\n",
      "  - image_id_without_aperture     (presentation) object '6ddcf4b55f9151ac7725...\n",
      "  - microsaccade_shift_y_degrees  (presentation) float64 0.0 0.0 0.0 ... 0.0 0.0\n",
      "  - filename                      (presentation) object 'noise-320x320-im38-s...\n",
      "  - image_id                      (presentation) object '21041db1f26c142812a6...\n",
      "  - sample                        (presentation) int64 5 15 3 13 12 ... 8 6 6 10\n",
      "  - texture_family                (presentation) int64 38 393 30 18 ... 56 48 30\n",
      "  - id                            (presentation) int64 133032 133033 ... 133473\n",
      "  - microsaccade_shift_y_pixels   (presentation) float64 0.0 0.0 0.0 ... 0.0 0.0\n",
      "  - texture_type                  (presentation) object 'noise' ... 'texture'\n",
      "  - microsaccade_shift_x_degrees  (presentation) float64 0.0 0.0 0.0 ... 0.0 0.0\n",
      "  - microsaccade_shift_x_pixels   (presentation) float64 0.0 0.0 0.0 ... 0.0 0.0\n",
      "  - image_file_name               (presentation) object 'noise-320x320-im38-s...\n",
      "  - stimulus_id                   (presentation) object '21041db1f26c142812a6...\n",
      "  * neuroid                       (neuroid) MultiIndex\n",
      "  - neuroid_num                   (neuroid) int64 0 1 2 3 ... 46653 46654 46655\n",
      "  - model                         (neuroid) object 'alexnet' ... 'alexnet'\n",
      "  - layer                         (neuroid) object 'features.2' ... 'features.2'\n",
      "  - channel                       (neuroid) int64 0 0 0 0 0 0 ... 63 63 63 63 63\n",
      "  - channel_x                     (neuroid) int64 0 0 0 0 0 0 ... 26 26 26 26 26\n",
      "  - channel_y                     (neuroid) int64 0 1 2 3 4 5 ... 22 23 24 25 26\n",
      "  - neuroid_id                    (neuroid) object 'alexnet.features.2.0' ......\n",
      "  - region                        (neuroid) object 'V1' 'V1' 'V1' ... 'V1' 'V1'\n",
      "    time_bin                      object (100, 200)\n"
     ]
    }
   ],
   "source": [
    "from brainscore_vision import load_model, load_stimulus_set\n",
    "from brainscore_vision.model_interface import BrainModel\n",
    "\n",
    "model = load_model('alexnet')\n",
    "model.start_recording(recording_target=BrainModel.RecordingTarget.V1, time_bins=[(100, 200)])\n",
    "stimuli = load_stimulus_set('FreemanZiemba2013.aperture-public')  # load some images for the model to look at\n",
    "neural_predictions = model.look_at(stimuli)\n",
    "print(neural_predictions)"
   ]
  },
  {
   "cell_type": "code",
   "execution_count": 2,
   "id": "372fd2e0-9905-44d7-9332-fa695b4c5d85",
   "metadata": {},
   "outputs": [
    {
     "name": "stdout",
     "output_type": "stream",
     "text": [
      "['features.2', 'features.5', 'features.7', 'features.9', 'features.12', 'classifier.2', 'classifier.5']\n"
     ]
    }
   ],
   "source": [
    "layer_names = model.layers\n",
    "print(layer_names)"
   ]
  },
  {
   "cell_type": "code",
   "execution_count": 4,
   "id": "ec8341aa-6a43-4314-8b41-0d231694d77b",
   "metadata": {},
   "outputs": [
    {
     "data": {
      "image/png": "[encoded data removed]",
      "text/plain": [
       "<Figure size 640x480 with 1 Axes>"
      ]
     },
     "metadata": {},
     "output_type": "display_data"
    }
   ],
   "source": [
    "import matplotlib.pyplot as plt\n",
    "plt.hist(neural_predictions.values.flatten(), bins=50)\n",
    "plt.title('Activation Histogram')\n",
    "plt.show()"
   ]
  },
  {
   "cell_type": "code",
   "execution_count": 5,
   "id": "878c5582-d24d-414a-bbea-f985aa569820",
   "metadata": {},
   "outputs": [
    {
     "data": {
      "text/plain": [
       "array([[0.       , 0.       , 0.       , ..., 0.       , 0.       ,\n",
       "        0.0477892],\n",
       "       [0.       , 0.       , 0.       , ..., 0.       , 0.       ,\n",
       "        0.0477892],\n",
       "       [0.       , 0.       , 0.       , ..., 0.       , 0.       ,\n",
       "        0.0477892],\n",
       "       ...,\n",
       "       [0.       , 0.       , 0.       , ..., 0.       , 0.       ,\n",
       "        0.0477892],\n",
       "       [0.       , 0.       , 0.       , ..., 0.       , 0.       ,\n",
       "        0.0477892],\n",
       "       [0.       , 0.       , 0.       , ..., 0.       , 0.       ,\n",
       "        0.0477892]], dtype=float32)"
      ]
     },
     "execution_count": 5,
     "metadata": {},
     "output_type": "execute_result"
    }
   ],
   "source": [
    "neural_predictions.values"
   ]
  }
 ],
 "metadata": {
  "kernelspec": {
   "display_name": "Python 3 (ipykernel)",
   "language": "python",
   "name": "python3"
  },
  "language_info": {
   "codemirror_mode": {
    "name": "ipython",
    "version": 3
   },
   "file_extension": ".py",
   "mimetype": "text/x-python",
   "name": "python",
   "nbconvert_exporter": "python",
   "pygments_lexer": "ipython3",
   "version": "3.11.10"
  }
 },
 "nbformat": 4,
 "nbformat_minor": 5
}
