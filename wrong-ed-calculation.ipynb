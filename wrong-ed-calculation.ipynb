{
 "cells": [
  {
   "cell_type": "markdown",
   "metadata": {},
   "source": [
    "<h1 align=center>Compute the Effective Dimensionality of a Model</h1>"
   ]
  },
  {
   "cell_type": "markdown",
   "metadata": {},
   "source": [
    "> :warning: The following notebook is wrong as it compute the singular values of each batch and does the sum of all the singular values across batches.\n",
    "> The correct way to do it is to stack all the batches on top of each other and compute the singular values. See [ed-calculation.ipynb](./ed-calculation.ipynb)"
   ]
  },
  {
   "cell_type": "markdown",
   "metadata": {},
   "source": [
    "**TODO**: Add comments and description in the notebook"
   ]
  },
  {
   "cell_type": "code",
   "execution_count": null,
   "metadata": {},
   "outputs": [],
   "source": [
    "import os\n",
    "import numpy as np"
   ]
  },
  {
   "cell_type": "code",
   "execution_count": null,
   "metadata": {},
   "outputs": [],
   "source": [
    "models = {\n",
    "  'alexnet': ['features.2', 'features.7', 'features.7', 'features.12'],\n",
    "  'deit_base_imagenet_full_seed-0': ['blocks.3.mlp.fc1', 'blocks.8.norm2', 'blocks.3.mlp.act', 'blocks.9.norm2'],\n",
    "  'resnet-50-robust': ['layer3.0.downsample.0', 'layer4.0.downsample.0', 'layer3.0.downsample.0', 'layer4.0.downsample.0'],\n",
    "  'deit_large_imagenet_full_seed-0': ['blocks.4.norm1', 'blocks.18.norm2', 'blocks.9.norm1', 'blocks.20.norm2'],\n",
    "  'resnet152_imagenet_full': ['layer1.0.bn1', 'layer3.3.bn3', 'layer3.0.bn3', 'layer3.34.bn3'],\n",
    "  'resnext101_32x32d_wsl': ['layer1.0.relu', 'layer3.0.relu', 'layer2.0.relu', 'layer3.21.relu'],\n",
    "  'convnext_small_imagenet_100_seed-0': ['features.5.2.block.0', 'features.5.17.block.0', 'features.4.0', 'features.5.9.block.0'],\n",
    "  'convnext_small_imagenet_10_seed-0': ['features.5.2.block.0', 'features.5.17.block.0', 'features.4.0', 'features.5.9.block.0'],\n",
    "  'resnext101_32x48d_wsl': ['layer2.2.relu', 'layer3.0.relu', 'layer2.0.relu', 'layer3.20.relu'],\n",
    "  'resnet50_ecoset_full': ['layer1.0.bn1', 'layer4.0.conv2', 'layer3.0.conv1', 'layer4.0.relu'],\n",
    "  'resnet50_imagenet_100_seed-0': ['layer1.0.conv1', 'layer3.5.bn3', 'layer3.0.conv1', 'layer4.0.relu'],\n",
    "  'resnet101_ecoset_full': ['layer1.0.bn1', 'layer3.4.relu', 'layer3.0.bn3', 'layer4.0.relu'],\n",
    "  'resnext101_32x8d_wsl': ['layer2.3.relu', 'layer3.4.relu', 'layer2.1.relu', 'layer3.3.relu'],\n",
    "  'convnext_small_imagenet_full_seed-0': ['features.5.2.block.0', 'features.5.17.block.0', 'features.4.0', 'features.5.9.block.0'],\n",
    "  'convnext_tiny_imagenet_full_seed-0': ['features.6.0', 'features.5.4.block.0', 'features.4.0', 'features.5.4.block.0'],\n",
    "  'deit_small_imagenet_100_seed-0': ['blocks.2.norm1', 'blocks.6.norm2', 'blocks.5.norm1', 'blocks.9.norm2'],\n",
    "  'convnext_base_imagenet_full_seed-0': ['features.5.7.block.0', 'features.5.12.block.0', 'features.4.0', 'features.5.11.block.0'],\n",
    "  'resnet50_tutorial': ['layer2', 'layer2', 'layer2', 'layer3'],\n",
    "  'resnet101_imagenet_full': ['layer1.0.bn1', 'layer4.0.bn1', 'layer3.0.bn3', 'layer4.0.relu'],\n",
    "  'convnext_large_imagenet_full_seed-0': ['features.5.7.block.5', 'features.5.7.block.0', 'features.4.1', 'features.5.11.block.0'],\n",
    "  'resnet50_imagenet_full': ['layer1.0.conv1', 'layer3.5.bn3', 'layer3.0.conv1', 'layer4.0.relu'],\n",
    "  'resnet18_imagenet_full': ['layer1.0.bn1', 'layer3.0.conv2', 'layer2.0.bn2', 'layer4.0.bn1'],\n",
    "  'resnet152_ecoset_full': ['layer1.0.bn1', 'layer3.3.bn3', 'layer3.0.bn3', 'layer4.0.relu'],\n",
    "  'resnet18_ecoset_full': ['layer1.0.conv1', 'layer3.0.conv1', 'layer2.0.bn2', 'layer4.0.bn1'],\n",
    "  'resnet-152_v2_pytorch': ['avgpool', 'layer4.1.relu', 'layer4.1.relu', 'layer4.1.bn2'],\n",
    "  'resnet34_ecoset_full': ['layer1.0.bn1', 'layer3.1.conv1', 'layer3.0.conv1', 'layer4.0.conv1'],\n",
    "  'resnet18_imagenet21kP': ['layer2.0.relu', 'layer2.0.relu', 'layer2.0.relu', 'layer4.0.relu'],\n",
    "  'deit_small_imagenet_full_seed-0': ['blocks.2.norm1', 'blocks.6.norm2', 'blocks.5.norm1', 'blocks.9.norm2']\n",
    "}"
   ]
  },
  {
   "cell_type": "code",
   "execution_count": null,
   "metadata": {},
   "outputs": [],
   "source": [
    "def flatten(layer_output):\n",
    "  return layer_output.reshape(layer_output.shape[0], -1)"
   ]
  },
  {
   "cell_type": "code",
   "execution_count": null,
   "metadata": {},
   "outputs": [],
   "source": [
    "def global_avg_pooling(layer_output):\n",
    "  if len(layer_output.shape) != 4:\n",
    "    raise ValueError(f\"Input features must be a 4D array instead of {layer_output.shape}D\")\n",
    "  return layer_output.mean(axis=(2, 3))"
   ]
  },
  {
   "cell_type": "code",
   "execution_count": null,
   "metadata": {},
   "outputs": [],
   "source": [
    "# Define the directory containing .npz files\n",
    "output_dir = f'{ os.getcwd() }/data/output'"
   ]
  },
  {
   "cell_type": "code",
   "execution_count": null,
   "metadata": {},
   "outputs": [],
   "source": [
    "aggregated_sums_num = {}\n",
    "aggregated_sums_denom = {}\n",
    "file_count = 0"
   ]
  },
  {
   "cell_type": "code",
   "execution_count": null,
   "metadata": {},
   "outputs": [],
   "source": [
    "use_global_avg_pooling, use_flatten = True, False"
   ]
  },
  {
   "cell_type": "code",
   "execution_count": null,
   "metadata": {},
   "outputs": [],
   "source": [
    "def compute(key):\n",
    "  folder = os.path.join(output_dir, key)\n",
    "  out = os.path.join(folder, 'ed.npz')\n",
    "  for file_name in os.listdir(folder):\n",
    "    if file_name.endswith('.npz'):\n",
    "      print(file_name)\n",
    "      file_path = os.path.join(folder, file_name)\n",
    "      data = np.load(file_path)\n",
    "      for key in data.files:\n",
    "        if key not in aggregated_sums_num:\n",
    "          aggregated_sums_num[key] = 0\n",
    "        if key not in aggregated_sums_denom:\n",
    "          aggregated_sums_denom[key] = 0\n",
    "\n",
    "        print(\"normalize the data\\n\")\n",
    "        array = data[key]\n",
    "\n",
    "        if use_global_avg_pooling:\n",
    "          array = global_avg_pooling(array)\n",
    "        if use_flatten:\n",
    "          array = flatten(array)\n",
    "\n",
    "        print(array.shape)\n",
    "        print(\"start calculating svd\\n\")\n",
    "        singular_values = np.linalg.svd(array, compute_uv=False)\n",
    "\n",
    "        print(\"value added\\n\")\n",
    "        aggregated_sums_num[key] += sum(singular_values)\n",
    "        aggregated_sums_denom[key] += sum(singular_values ** 2)\n",
    "      file_count += 1\n",
    "      print(f\"Processed file {file_count}: {file_name}\")\n",
    "  effective_dimensionality = {key: aggregated_sums_num[key]**2 / aggregated_sums_denom[key] for key in aggregated_sums_denom}\n",
    "  print(effective_dimensionality)\n",
    "  np.savez(out, **effective_dimensionality)\n",
    "  print(f\"Aggregation complete. Results saved to {out}.\")"
   ]
  },
  {
   "cell_type": "code",
   "execution_count": null,
   "metadata": {},
   "outputs": [],
   "source": [
    "for key, layers in models.items():\n",
    "  compute(key)"
   ]
  }
 ],
 "metadata": {
  "kernelspec": {
   "display_name": "cs433-project2",
   "language": "python",
   "name": "python3"
  },
  "language_info": {
   "name": "python",
   "version": "3.11.10"
  }
 },
 "nbformat": 4,
 "nbformat_minor": 2
}
